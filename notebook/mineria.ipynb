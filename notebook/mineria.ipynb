{
 "cells": [
  {
   "cell_type": "markdown",
   "id": "0274ad10",
   "metadata": {},
   "source": [
    "# Librerías"
   ]
  },
  {
   "cell_type": "code",
   "execution_count": 1,
   "id": "20854e2b",
   "metadata": {},
   "outputs": [],
   "source": [
    "import polars as pl"
   ]
  },
  {
   "cell_type": "code",
   "execution_count": 2,
   "id": "dc8a7c06",
   "metadata": {},
   "outputs": [
    {
     "name": "stdout",
     "output_type": "stream",
     "text": [
      "C:\\Users\\chris\\Desktop\\Proyectos-Portafolio\\Dashboard-mineria\n"
     ]
    }
   ],
   "source": [
    "%cd \"C:/Users/chris/Desktop/Proyectos-Portafolio/Dashboard-mineria\""
   ]
  },
  {
   "cell_type": "markdown",
   "id": "786824d2",
   "metadata": {},
   "source": [
    "# Cargar la data "
   ]
  },
  {
   "cell_type": "code",
   "execution_count": 3,
   "id": "329ae7bf",
   "metadata": {},
   "outputs": [],
   "source": [
    "df_2021 = pl.read_excel('data/raw/ExportacionesAño2021.xlsx')\n",
    "df_2022 = pl.read_excel('data/raw/ExportacionesAño2022.xlsx')\n",
    "df_2023 = pl.read_excel('data/raw/ExportacionesAño2023.xlsx')\n",
    "df_2024 = pl.read_excel('data/raw/ExportacionesAño2024.xlsx')"
   ]
  },
  {
   "cell_type": "markdown",
   "id": "0b5f4733",
   "metadata": {},
   "source": [
    "# Seleccionar columnas año 2021"
   ]
  },
  {
   "cell_type": "code",
   "execution_count": 4,
   "id": "667c4441",
   "metadata": {},
   "outputs": [],
   "source": [
    "columnas_2021 = ['AÑO','MES','PAISDESTINO','PUERTOEMBARQUE','PRODUCTO','MONTOFOB','PESOTONELADAS']\n",
    "df_2021 = df_2021.select(columnas_2021)"
   ]
  },
  {
   "cell_type": "markdown",
   "id": "165a936a",
   "metadata": {},
   "source": [
    "# Cambiar nombre a las columnas año 2021 "
   ]
  },
  {
   "cell_type": "code",
   "execution_count": 5,
   "id": "de4ed37b",
   "metadata": {},
   "outputs": [],
   "source": [
    "diccionario_2021 = {'AÑO':'Año', 'MES':'Mes','PAISDESTINO':'Pais de destino','PUERTOEMBARQUE':'Puerto de embarque','PRODUCTO':'Producto','MONTOFOB':'Monto Fob(US$)','PESOTONELADAS':'Peso (Toneladas)'}\n",
    "\n",
    "df_2021 = df_2021.rename(diccionario_2021)"
   ]
  },
  {
   "cell_type": "markdown",
   "id": "aa6d8507",
   "metadata": {},
   "source": [
    "# Seleccionar columnas año 2022"
   ]
  },
  {
   "cell_type": "code",
   "execution_count": 6,
   "id": "f203caae",
   "metadata": {},
   "outputs": [],
   "source": [
    "columnas_2022 = ['AÑO','MES','PAISDESTINO','PUERTOEMBARQUE','PRODUCTO','MONTOFOB(US$)','PESOTONELADAS']\n",
    "df_2022 = df_2022.select(columnas_2022)"
   ]
  },
  {
   "cell_type": "markdown",
   "id": "1d594840",
   "metadata": {},
   "source": [
    "# Cambiar nombre a las columnas Año 2022"
   ]
  },
  {
   "cell_type": "code",
   "execution_count": 7,
   "id": "1b8e0164",
   "metadata": {},
   "outputs": [],
   "source": [
    "diccionario_2022 = {'AÑO':'Año','MES':'Mes','PAISDESTINO':'Pais de destino','PUERTOEMBARQUE':'Puerto de embarque','PRODUCTO':'Producto','MONTOFOB(US$)':'Monto Fob(US$)','PESOTONELADAS':'Peso (Toneladas)'}\n",
    "\n",
    "df_2022 = df_2022.rename(diccionario_2022)"
   ]
  },
  {
   "cell_type": "markdown",
   "id": "a4488bc5",
   "metadata": {},
   "source": [
    "# Seleccionar columnas año 2023 "
   ]
  },
  {
   "cell_type": "code",
   "execution_count": 8,
   "id": "9f3cef97",
   "metadata": {},
   "outputs": [],
   "source": [
    "columnas_2023 = ['AÑO','MES','PAISDESTINO','PUERTOEMBARQUE','PRODUCTO','MONTOFOB (US$)','PESOTONELADAS']\n",
    "\n",
    "df_2023 = df_2023.select(columnas_2023)"
   ]
  },
  {
   "cell_type": "markdown",
   "id": "bcb58282",
   "metadata": {},
   "source": [
    "# Cambiar nombre a las columnas año 2023 "
   ]
  },
  {
   "cell_type": "code",
   "execution_count": 9,
   "id": "3f927f71",
   "metadata": {},
   "outputs": [],
   "source": [
    "diccionario_2023 = {'AÑO':'Año','MES':'Mes','PAISDESTINO':'Pais de destino','PUERTOEMBARQUE':'Puerto de embarque','PRODUCTO':'Producto','MONTOFOB (US$)':'Monto Fob(US$)','PESOTONELADAS':'Peso (Toneladas)'}\n",
    "\n",
    "df_2023 = df_2023.rename(diccionario_2023)"
   ]
  },
  {
   "cell_type": "markdown",
   "id": "0bb3796f",
   "metadata": {},
   "source": [
    "# Seleccionar columnas año 2024"
   ]
  },
  {
   "cell_type": "code",
   "execution_count": 10,
   "id": "e45a190d",
   "metadata": {},
   "outputs": [],
   "source": [
    "columnas_2024 = ['AÑO','MES','PAÍS DESTINO','PUERTO EMBARQUE','PRODUCTO','MONTO FOB (US$)','PESO EN TONELADAS']\n",
    "\n",
    "df_2024 = df_2024.select(columnas_2024)"
   ]
  },
  {
   "cell_type": "markdown",
   "id": "012bb503",
   "metadata": {},
   "source": [
    "# Cambiar nombre a las columnas año 2024"
   ]
  },
  {
   "cell_type": "code",
   "execution_count": 11,
   "id": "d8a33d85",
   "metadata": {},
   "outputs": [],
   "source": [
    "diccionario_2024 = {'AÑO':'Año','MES':'Mes','PAÍS DESTINO':'Pais de destino','PUERTO EMBARQUE':'Puerto de embarque','PRODUCTO':'Producto','MONTO FOB (US$)':'Monto Fob(US$)','PESO EN TONELADAS':'Peso (Toneladas)'}\n",
    "\n",
    "df_2024 = df_2024.rename(diccionario_2024)"
   ]
  },
  {
   "cell_type": "markdown",
   "id": "ee73f0a3",
   "metadata": {},
   "source": [
    "# Unir todos los años en un dataframe "
   ]
  },
  {
   "cell_type": "code",
   "execution_count": 12,
   "id": "0dabb501",
   "metadata": {},
   "outputs": [],
   "source": [
    "df = pl.concat([df_2021, df_2022, df_2023, df_2024], how = 'vertical', rechunk = True)"
   ]
  },
  {
   "cell_type": "code",
   "execution_count": 13,
   "id": "949db80d",
   "metadata": {},
   "outputs": [
    {
     "data": {
      "text/html": [
       "<div><style>\n",
       ".dataframe > thead > tr,\n",
       ".dataframe > tbody > tr {\n",
       "  text-align: right;\n",
       "  white-space: pre-wrap;\n",
       "}\n",
       "</style>\n",
       "<small>shape: (1_087_026, 7)</small><table border=\"1\" class=\"dataframe\"><thead><tr><th>Año</th><th>Mes</th><th>Pais de destino</th><th>Puerto de embarque</th><th>Producto</th><th>Monto Fob(US$)</th><th>Peso (Toneladas)</th></tr><tr><td>i64</td><td>str</td><td>str</td><td>str</td><td>str</td><td>f64</td><td>f64</td></tr></thead><tbody><tr><td>2021</td><td>&quot;Enero&quot;</td><td>&quot;Alemania&quot;</td><td>&quot;Antofagasta&quot;</td><td>&quot;Minerales de cobre y sus conce…</td><td>1.8763e7</td><td>11117.17</td></tr><tr><td>2021</td><td>&quot;Enero&quot;</td><td>&quot;Alemania&quot;</td><td>&quot;Michilla&quot;</td><td>&quot;Minerales de cobre y sus conce…</td><td>2.3596e7</td><td>11502.1</td></tr><tr><td>2021</td><td>&quot;Enero&quot;</td><td>&quot;Alemania&quot;</td><td>&quot;Puerto Angamos&quot;</td><td>&quot;Cobre&quot;</td><td>772307.79</td><td>100.22</td></tr><tr><td>2021</td><td>&quot;Enero&quot;</td><td>&quot;Argentina&quot;</td><td>&quot;Jama&quot;</td><td>&quot;Resto Minería&quot;</td><td>105391.51</td><td>754.81</td></tr><tr><td>2021</td><td>&quot;Enero&quot;</td><td>&quot;Argentina&quot;</td><td>&quot;Jama&quot;</td><td>&quot;Resto Minería&quot;</td><td>1960.0</td><td>56.0</td></tr><tr><td>&hellip;</td><td>&hellip;</td><td>&hellip;</td><td>&hellip;</td><td>&hellip;</td><td>&hellip;</td><td>&hellip;</td></tr><tr><td>2024</td><td>&quot;Diciembre&quot;</td><td>&quot;Vietnam&quot;</td><td>&quot;Valparaíso&quot;</td><td>&quot;Resto No minería&quot;</td><td>219100.0</td><td>12.9336</td></tr><tr><td>2024</td><td>&quot;Diciembre&quot;</td><td>&quot;Vietnam&quot;</td><td>&quot;Valparaíso&quot;</td><td>&quot;Vinos&quot;</td><td>4807.41</td><td>3.2</td></tr><tr><td>2024</td><td>&quot;Diciembre&quot;</td><td>&quot;Vietnam&quot;</td><td>&quot;Valparaíso&quot;</td><td>&quot;Vinos&quot;</td><td>7211.12</td><td>4.8</td></tr><tr><td>2024</td><td>&quot;Diciembre&quot;</td><td>&quot;Vietnam&quot;</td><td>&quot;Valparaíso&quot;</td><td>&quot;Vinos&quot;</td><td>7747.39</td><td>5.136</td></tr><tr><td>2024</td><td>&quot;Diciembre&quot;</td><td>&quot;Vietnam&quot;</td><td>&quot;Valparaíso&quot;</td><td>&quot;Vinos&quot;</td><td>7187.08</td><td>4.784</td></tr></tbody></table></div>"
      ],
      "text/plain": [
       "shape: (1_087_026, 7)\n",
       "┌──────┬───────────┬─────────────────┬────────────────────┬────────────────────────┬────────────────┬──────────────────┐\n",
       "│ Año  ┆ Mes       ┆ Pais de destino ┆ Puerto de embarque ┆ Producto               ┆ Monto Fob(US$) ┆ Peso (Toneladas) │\n",
       "│ ---  ┆ ---       ┆ ---             ┆ ---                ┆ ---                    ┆ ---            ┆ ---              │\n",
       "│ i64  ┆ str       ┆ str             ┆ str                ┆ str                    ┆ f64            ┆ f64              │\n",
       "╞══════╪═══════════╪═════════════════╪════════════════════╪════════════════════════╪════════════════╪══════════════════╡\n",
       "│ 2021 ┆ Enero     ┆ Alemania        ┆ Antofagasta        ┆ Minerales de cobre y   ┆ 1.8763e7       ┆ 11117.17         │\n",
       "│      ┆           ┆                 ┆                    ┆ sus conce…             ┆                ┆                  │\n",
       "│ 2021 ┆ Enero     ┆ Alemania        ┆ Michilla           ┆ Minerales de cobre y   ┆ 2.3596e7       ┆ 11502.1          │\n",
       "│      ┆           ┆                 ┆                    ┆ sus conce…             ┆                ┆                  │\n",
       "│ 2021 ┆ Enero     ┆ Alemania        ┆ Puerto Angamos     ┆ Cobre                  ┆ 772307.79      ┆ 100.22           │\n",
       "│ 2021 ┆ Enero     ┆ Argentina       ┆ Jama               ┆ Resto Minería          ┆ 105391.51      ┆ 754.81           │\n",
       "│ 2021 ┆ Enero     ┆ Argentina       ┆ Jama               ┆ Resto Minería          ┆ 1960.0         ┆ 56.0             │\n",
       "│ …    ┆ …         ┆ …               ┆ …                  ┆ …                      ┆ …              ┆ …                │\n",
       "│ 2024 ┆ Diciembre ┆ Vietnam         ┆ Valparaíso         ┆ Resto No minería       ┆ 219100.0       ┆ 12.9336          │\n",
       "│ 2024 ┆ Diciembre ┆ Vietnam         ┆ Valparaíso         ┆ Vinos                  ┆ 4807.41        ┆ 3.2              │\n",
       "│ 2024 ┆ Diciembre ┆ Vietnam         ┆ Valparaíso         ┆ Vinos                  ┆ 7211.12        ┆ 4.8              │\n",
       "│ 2024 ┆ Diciembre ┆ Vietnam         ┆ Valparaíso         ┆ Vinos                  ┆ 7747.39        ┆ 5.136            │\n",
       "│ 2024 ┆ Diciembre ┆ Vietnam         ┆ Valparaíso         ┆ Vinos                  ┆ 7187.08        ┆ 4.784            │\n",
       "└──────┴───────────┴─────────────────┴────────────────────┴────────────────────────┴────────────────┴──────────────────┘"
      ]
     },
     "execution_count": 13,
     "metadata": {},
     "output_type": "execute_result"
    }
   ],
   "source": [
    "df"
   ]
  },
  {
   "cell_type": "markdown",
   "id": "b3d27eb7",
   "metadata": {},
   "source": [
    "# Filtrar por minerales que se utilizarán "
   ]
  },
  {
   "cell_type": "code",
   "execution_count": 15,
   "id": "3e1ebfcc",
   "metadata": {},
   "outputs": [
    {
     "data": {
      "text/html": [
       "<div><style>\n",
       ".dataframe > thead > tr,\n",
       ".dataframe > tbody > tr {\n",
       "  text-align: right;\n",
       "  white-space: pre-wrap;\n",
       "}\n",
       "</style>\n",
       "<small>shape: (9_680, 7)</small><table border=\"1\" class=\"dataframe\"><thead><tr><th>Año</th><th>Mes</th><th>Pais de destino</th><th>Puerto de embarque</th><th>Producto</th><th>Monto Fob(US$)</th><th>Peso (Toneladas)</th></tr><tr><td>i64</td><td>str</td><td>str</td><td>str</td><td>str</td><td>f64</td><td>f64</td></tr></thead><tbody><tr><td>2021</td><td>&quot;Enero&quot;</td><td>&quot;Alemania&quot;</td><td>&quot;Puerto Angamos&quot;</td><td>&quot;Cobre&quot;</td><td>772307.79</td><td>100.22</td></tr><tr><td>2021</td><td>&quot;Enero&quot;</td><td>&quot;Bélgica&quot;</td><td>&quot;Puerto Angamos&quot;</td><td>&quot;Litio&quot;</td><td>313523.38</td><td>41.12</td></tr><tr><td>2021</td><td>&quot;Enero&quot;</td><td>&quot;Bélgica&quot;</td><td>&quot;Puerto Angamos&quot;</td><td>&quot;Litio&quot;</td><td>1.1597e6</td><td>183.6</td></tr><tr><td>2021</td><td>&quot;Enero&quot;</td><td>&quot;Brasil&quot;</td><td>&quot;Antofagasta&quot;</td><td>&quot;Cobre&quot;</td><td>7.2128e7</td><td>9121.811</td></tr><tr><td>2021</td><td>&quot;Enero&quot;</td><td>&quot;Canadá&quot;</td><td>&quot;Antofagasta&quot;</td><td>&quot;Cobre&quot;</td><td>8.4245e7</td><td>10005.357</td></tr><tr><td>&hellip;</td><td>&hellip;</td><td>&hellip;</td><td>&hellip;</td><td>&hellip;</td><td>&hellip;</td><td>&hellip;</td></tr><tr><td>2024</td><td>&quot;Diciembre&quot;</td><td>&quot;Taiwán (Formosa)&quot;</td><td>&quot;San Antonio&quot;</td><td>&quot;Cobre&quot;</td><td>6.4282e6</td><td>682.631</td></tr><tr><td>2024</td><td>&quot;Diciembre&quot;</td><td>&quot;Taiwán (Formosa)&quot;</td><td>&quot;Valparaíso&quot;</td><td>&quot;Cobre&quot;</td><td>1787696.9</td><td>201.342</td></tr><tr><td>2024</td><td>&quot;Diciembre&quot;</td><td>&quot;Taiwán (Formosa)&quot;</td><td>&quot;Valparaíso&quot;</td><td>&quot;Cobre&quot;</td><td>4.6784e6</td><td>518.615</td></tr><tr><td>2024</td><td>&quot;Diciembre&quot;</td><td>&quot;Taiwán (Formosa)&quot;</td><td>&quot;Valparaíso&quot;</td><td>&quot;Cobre&quot;</td><td>2.0435e7</td><td>2231.303</td></tr><tr><td>2024</td><td>&quot;Diciembre&quot;</td><td>&quot;Uruguay&quot;</td><td>&quot;Cristo Redentor (Los Libertado…</td><td>&quot;Cobre&quot;</td><td>7800.0</td><td>0.536</td></tr></tbody></table></div>"
      ],
      "text/plain": [
       "shape: (9_680, 7)\n",
       "┌──────┬───────────┬──────────────────┬─────────────────────────────────┬──────────┬────────────────┬──────────────────┐\n",
       "│ Año  ┆ Mes       ┆ Pais de destino  ┆ Puerto de embarque              ┆ Producto ┆ Monto Fob(US$) ┆ Peso (Toneladas) │\n",
       "│ ---  ┆ ---       ┆ ---              ┆ ---                             ┆ ---      ┆ ---            ┆ ---              │\n",
       "│ i64  ┆ str       ┆ str              ┆ str                             ┆ str      ┆ f64            ┆ f64              │\n",
       "╞══════╪═══════════╪══════════════════╪═════════════════════════════════╪══════════╪════════════════╪══════════════════╡\n",
       "│ 2021 ┆ Enero     ┆ Alemania         ┆ Puerto Angamos                  ┆ Cobre    ┆ 772307.79      ┆ 100.22           │\n",
       "│ 2021 ┆ Enero     ┆ Bélgica          ┆ Puerto Angamos                  ┆ Litio    ┆ 313523.38      ┆ 41.12            │\n",
       "│ 2021 ┆ Enero     ┆ Bélgica          ┆ Puerto Angamos                  ┆ Litio    ┆ 1.1597e6       ┆ 183.6            │\n",
       "│ 2021 ┆ Enero     ┆ Brasil           ┆ Antofagasta                     ┆ Cobre    ┆ 7.2128e7       ┆ 9121.811         │\n",
       "│ 2021 ┆ Enero     ┆ Canadá           ┆ Antofagasta                     ┆ Cobre    ┆ 8.4245e7       ┆ 10005.357        │\n",
       "│ …    ┆ …         ┆ …                ┆ …                               ┆ …        ┆ …              ┆ …                │\n",
       "│ 2024 ┆ Diciembre ┆ Taiwán (Formosa) ┆ San Antonio                     ┆ Cobre    ┆ 6.4282e6       ┆ 682.631          │\n",
       "│ 2024 ┆ Diciembre ┆ Taiwán (Formosa) ┆ Valparaíso                      ┆ Cobre    ┆ 1787696.9      ┆ 201.342          │\n",
       "│ 2024 ┆ Diciembre ┆ Taiwán (Formosa) ┆ Valparaíso                      ┆ Cobre    ┆ 4.6784e6       ┆ 518.615          │\n",
       "│ 2024 ┆ Diciembre ┆ Taiwán (Formosa) ┆ Valparaíso                      ┆ Cobre    ┆ 2.0435e7       ┆ 2231.303         │\n",
       "│ 2024 ┆ Diciembre ┆ Uruguay          ┆ Cristo Redentor (Los Libertado… ┆ Cobre    ┆ 7800.0         ┆ 0.536            │\n",
       "└──────┴───────────┴──────────────────┴─────────────────────────────────┴──────────┴────────────────┴──────────────────┘"
      ]
     },
     "execution_count": 15,
     "metadata": {},
     "output_type": "execute_result"
    }
   ],
   "source": [
    "minerales = ['Plata','Litio','Oro','Cobre']\n",
    "\n",
    "df_minerales = df.filter(pl.col('Producto').is_in(minerales))\n",
    "df_minerales"
   ]
  },
  {
   "cell_type": "markdown",
   "id": "f34cbe31",
   "metadata": {},
   "source": [
    "# Revisar valores nulos "
   ]
  },
  {
   "cell_type": "code",
   "execution_count": 16,
   "id": "b6a5364f",
   "metadata": {},
   "outputs": [
    {
     "data": {
      "text/html": [
       "<div><style>\n",
       ".dataframe > thead > tr,\n",
       ".dataframe > tbody > tr {\n",
       "  text-align: right;\n",
       "  white-space: pre-wrap;\n",
       "}\n",
       "</style>\n",
       "<small>shape: (9, 8)</small><table border=\"1\" class=\"dataframe\"><thead><tr><th>statistic</th><th>Año</th><th>Mes</th><th>Pais de destino</th><th>Puerto de embarque</th><th>Producto</th><th>Monto Fob(US$)</th><th>Peso (Toneladas)</th></tr><tr><td>str</td><td>f64</td><td>str</td><td>str</td><td>str</td><td>str</td><td>f64</td><td>f64</td></tr></thead><tbody><tr><td>&quot;count&quot;</td><td>9680.0</td><td>&quot;9680&quot;</td><td>&quot;9680&quot;</td><td>&quot;9680&quot;</td><td>&quot;9680&quot;</td><td>9680.0</td><td>9680.0</td></tr><tr><td>&quot;null_count&quot;</td><td>0.0</td><td>&quot;0&quot;</td><td>&quot;0&quot;</td><td>&quot;0&quot;</td><td>&quot;0&quot;</td><td>0.0</td><td>0.0</td></tr><tr><td>&quot;mean&quot;</td><td>2022.546901</td><td>null</td><td>null</td><td>null</td><td>null</td><td>1.1132e7</td><td>1059.555057</td></tr><tr><td>&quot;std&quot;</td><td>1.080436</td><td>null</td><td>null</td><td>null</td><td>null</td><td>2.8774e7</td><td>2945.763994</td></tr><tr><td>&quot;min&quot;</td><td>2021.0</td><td>&quot;Abril&quot;</td><td>&quot;Alemania&quot;</td><td>&quot;Aerop. A. Merino Benítez&quot;</td><td>&quot;Cobre&quot;</td><td>0.25</td><td>0.00011</td></tr><tr><td>&quot;25%&quot;</td><td>2022.0</td><td>null</td><td>null</td><td>null</td><td>null</td><td>304824.73</td><td>24.135</td></tr><tr><td>&quot;50%&quot;</td><td>2023.0</td><td>null</td><td>null</td><td>null</td><td>null</td><td>2.2648e6</td><td>182.811</td></tr><tr><td>&quot;75%&quot;</td><td>2023.0</td><td>null</td><td>null</td><td>null</td><td>null</td><td>1.0019e7</td><td>897.269</td></tr><tr><td>&quot;max&quot;</td><td>2024.0</td><td>&quot;Septiembre&quot;</td><td>&quot;Vietnam&quot;</td><td>&quot;Valparaíso&quot;</td><td>&quot;Plata&quot;</td><td>5.6672e8</td><td>54431.8564</td></tr></tbody></table></div>"
      ],
      "text/plain": [
       "shape: (9, 8)\n",
       "┌────────────┬─────────────┬────────────┬──────────┬───────────────────┬──────────┬────────────────┬───────────────────┐\n",
       "│ statistic  ┆ Año         ┆ Mes        ┆ Pais de  ┆ Puerto de         ┆ Producto ┆ Monto Fob(US$) ┆ Peso (Toneladas)  │\n",
       "│ ---        ┆ ---         ┆ ---        ┆ destino  ┆ embarque          ┆ ---      ┆ ---            ┆ ---               │\n",
       "│ str        ┆ f64         ┆ str        ┆ ---      ┆ ---               ┆ str      ┆ f64            ┆ f64               │\n",
       "│            ┆             ┆            ┆ str      ┆ str               ┆          ┆                ┆                   │\n",
       "╞════════════╪═════════════╪════════════╪══════════╪═══════════════════╪══════════╪════════════════╪═══════════════════╡\n",
       "│ count      ┆ 9680.0      ┆ 9680       ┆ 9680     ┆ 9680              ┆ 9680     ┆ 9680.0         ┆ 9680.0            │\n",
       "│ null_count ┆ 0.0         ┆ 0          ┆ 0        ┆ 0                 ┆ 0        ┆ 0.0            ┆ 0.0               │\n",
       "│ mean       ┆ 2022.546901 ┆ null       ┆ null     ┆ null              ┆ null     ┆ 1.1132e7       ┆ 1059.555057       │\n",
       "│ std        ┆ 1.080436    ┆ null       ┆ null     ┆ null              ┆ null     ┆ 2.8774e7       ┆ 2945.763994       │\n",
       "│ min        ┆ 2021.0      ┆ Abril      ┆ Alemania ┆ Aerop. A. Merino  ┆ Cobre    ┆ 0.25           ┆ 0.00011           │\n",
       "│            ┆             ┆            ┆          ┆ Benítez           ┆          ┆                ┆                   │\n",
       "│ 25%        ┆ 2022.0      ┆ null       ┆ null     ┆ null              ┆ null     ┆ 304824.73      ┆ 24.135            │\n",
       "│ 50%        ┆ 2023.0      ┆ null       ┆ null     ┆ null              ┆ null     ┆ 2.2648e6       ┆ 182.811           │\n",
       "│ 75%        ┆ 2023.0      ┆ null       ┆ null     ┆ null              ┆ null     ┆ 1.0019e7       ┆ 897.269           │\n",
       "│ max        ┆ 2024.0      ┆ Septiembre ┆ Vietnam  ┆ Valparaíso        ┆ Plata    ┆ 5.6672e8       ┆ 54431.8564        │\n",
       "└────────────┴─────────────┴────────────┴──────────┴───────────────────┴──────────┴────────────────┴───────────────────┘"
      ]
     },
     "execution_count": 16,
     "metadata": {},
     "output_type": "execute_result"
    }
   ],
   "source": [
    "df_minerales.describe()"
   ]
  },
  {
   "cell_type": "code",
   "execution_count": 18,
   "id": "a9fa34d7",
   "metadata": {},
   "outputs": [],
   "source": [
    "df_minerales.write_csv('mineria_2021-2024.csv')"
   ]
  }
 ],
 "metadata": {
  "kernelspec": {
   "display_name": "Python 3 (ipykernel)",
   "language": "python",
   "name": "python3"
  },
  "language_info": {
   "codemirror_mode": {
    "name": "ipython",
    "version": 3
   },
   "file_extension": ".py",
   "mimetype": "text/x-python",
   "name": "python",
   "nbconvert_exporter": "python",
   "pygments_lexer": "ipython3",
   "version": "3.11.5"
  }
 },
 "nbformat": 4,
 "nbformat_minor": 5
}
