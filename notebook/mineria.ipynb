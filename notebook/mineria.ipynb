{
 "cells": [
  {
   "cell_type": "markdown",
   "id": "0274ad10",
   "metadata": {},
   "source": [
    "# Librerías"
   ]
  },
  {
   "cell_type": "code",
   "execution_count": 1,
   "id": "20854e2b",
   "metadata": {},
   "outputs": [],
   "source": [
    "import polars as pl"
   ]
  },
  {
   "cell_type": "code",
   "execution_count": 23,
   "id": "dc8a7c06",
   "metadata": {},
   "outputs": [
    {
     "name": "stdout",
     "output_type": "stream",
     "text": [
      "C:\\Users\\chris\\Desktop\\Proyectos-Portafolio\\Dashboard-mineria\n"
     ]
    }
   ],
   "source": [
    "%cd \"C:/Users/chris/Desktop/Proyectos-Portafolio/Dashboard-mineria\""
   ]
  },
  {
   "cell_type": "markdown",
   "id": "786824d2",
   "metadata": {},
   "source": [
    "# Cargar la data "
   ]
  },
  {
   "cell_type": "code",
   "execution_count": 25,
   "id": "329ae7bf",
   "metadata": {},
   "outputs": [],
   "source": [
    "df = pl.read_excel('data/raw/ExportacionesAño2024.xlsx')"
   ]
  },
  {
   "cell_type": "markdown",
   "id": "0bb3796f",
   "metadata": {},
   "source": [
    "# Seleccionar columnas "
   ]
  },
  {
   "cell_type": "code",
   "execution_count": 20,
   "id": "e45a190d",
   "metadata": {},
   "outputs": [],
   "source": [
    "df_mineria = df.drop(['REGIÓN','VÍA TRANSPORTE','ADUANA','SECTOR','CÓD. ARANCELARIO','TIPO OPERACIÓN'])"
   ]
  },
  {
   "cell_type": "markdown",
   "id": "b3d27eb7",
   "metadata": {},
   "source": [
    "# Filtrar por minerales que se utilizarán "
   ]
  },
  {
   "cell_type": "code",
   "execution_count": 19,
   "id": "3e1ebfcc",
   "metadata": {},
   "outputs": [
    {
     "data": {
      "text/html": [
       "<div><style>\n",
       ".dataframe > thead > tr,\n",
       ".dataframe > tbody > tr {\n",
       "  text-align: right;\n",
       "  white-space: pre-wrap;\n",
       "}\n",
       "</style>\n",
       "<small>shape: (2_391, 7)</small><table border=\"1\" class=\"dataframe\"><thead><tr><th>AÑO</th><th>MES</th><th>PAÍS DESTINO</th><th>PUERTO EMBARQUE</th><th>PRODUCTO</th><th>MONTO FOB (US$)</th><th>PESO EN TONELADAS</th></tr><tr><td>i64</td><td>str</td><td>str</td><td>str</td><td>str</td><td>f64</td><td>f64</td></tr></thead><tbody><tr><td>2024</td><td>&quot;Enero&quot;</td><td>&quot;Alemania&quot;</td><td>&quot;Puerto Angamos&quot;</td><td>&quot;Cobre&quot;</td><td>1.0418e7</td><td>1252.204</td></tr><tr><td>2024</td><td>&quot;Enero&quot;</td><td>&quot;Argentina&quot;</td><td>&quot;Jama&quot;</td><td>&quot;Litio&quot;</td><td>600.0</td><td>2.23</td></tr><tr><td>2024</td><td>&quot;Enero&quot;</td><td>&quot;Bélgica&quot;</td><td>&quot;Antofagasta&quot;</td><td>&quot;Litio&quot;</td><td>2595763.1</td><td>123.24</td></tr><tr><td>2024</td><td>&quot;Enero&quot;</td><td>&quot;Bélgica&quot;</td><td>&quot;Antofagasta&quot;</td><td>&quot;Litio&quot;</td><td>1.6651e6</td><td>123.68</td></tr><tr><td>2024</td><td>&quot;Enero&quot;</td><td>&quot;Bélgica&quot;</td><td>&quot;Antofagasta&quot;</td><td>&quot;Litio&quot;</td><td>6.3273e6</td><td>471.64</td></tr><tr><td>&hellip;</td><td>&hellip;</td><td>&hellip;</td><td>&hellip;</td><td>&hellip;</td><td>&hellip;</td><td>&hellip;</td></tr><tr><td>2024</td><td>&quot;Diciembre&quot;</td><td>&quot;Taiwán (Formosa)&quot;</td><td>&quot;San Antonio&quot;</td><td>&quot;Cobre&quot;</td><td>6.4282e6</td><td>682.631</td></tr><tr><td>2024</td><td>&quot;Diciembre&quot;</td><td>&quot;Taiwán (Formosa)&quot;</td><td>&quot;Valparaíso&quot;</td><td>&quot;Cobre&quot;</td><td>1787696.9</td><td>201.342</td></tr><tr><td>2024</td><td>&quot;Diciembre&quot;</td><td>&quot;Taiwán (Formosa)&quot;</td><td>&quot;Valparaíso&quot;</td><td>&quot;Cobre&quot;</td><td>4.6784e6</td><td>518.615</td></tr><tr><td>2024</td><td>&quot;Diciembre&quot;</td><td>&quot;Taiwán (Formosa)&quot;</td><td>&quot;Valparaíso&quot;</td><td>&quot;Cobre&quot;</td><td>2.0435e7</td><td>2231.303</td></tr><tr><td>2024</td><td>&quot;Diciembre&quot;</td><td>&quot;Uruguay&quot;</td><td>&quot;Cristo Redentor (Los Libertado…</td><td>&quot;Cobre&quot;</td><td>7800.0</td><td>0.536</td></tr></tbody></table></div>"
      ],
      "text/plain": [
       "shape: (2_391, 7)\n",
       "┌──────┬───────────┬──────────────────┬──────────────────────┬──────────┬─────────────────┬───────────────────┐\n",
       "│ AÑO  ┆ MES       ┆ PAÍS DESTINO     ┆ PUERTO EMBARQUE      ┆ PRODUCTO ┆ MONTO FOB (US$) ┆ PESO EN TONELADAS │\n",
       "│ ---  ┆ ---       ┆ ---              ┆ ---                  ┆ ---      ┆ ---             ┆ ---               │\n",
       "│ i64  ┆ str       ┆ str              ┆ str                  ┆ str      ┆ f64             ┆ f64               │\n",
       "╞══════╪═══════════╪══════════════════╪══════════════════════╪══════════╪═════════════════╪═══════════════════╡\n",
       "│ 2024 ┆ Enero     ┆ Alemania         ┆ Puerto Angamos       ┆ Cobre    ┆ 1.0418e7        ┆ 1252.204          │\n",
       "│ 2024 ┆ Enero     ┆ Argentina        ┆ Jama                 ┆ Litio    ┆ 600.0           ┆ 2.23              │\n",
       "│ 2024 ┆ Enero     ┆ Bélgica          ┆ Antofagasta          ┆ Litio    ┆ 2595763.1       ┆ 123.24            │\n",
       "│ 2024 ┆ Enero     ┆ Bélgica          ┆ Antofagasta          ┆ Litio    ┆ 1.6651e6        ┆ 123.68            │\n",
       "│ 2024 ┆ Enero     ┆ Bélgica          ┆ Antofagasta          ┆ Litio    ┆ 6.3273e6        ┆ 471.64            │\n",
       "│ …    ┆ …         ┆ …                ┆ …                    ┆ …        ┆ …               ┆ …                 │\n",
       "│ 2024 ┆ Diciembre ┆ Taiwán (Formosa) ┆ San Antonio          ┆ Cobre    ┆ 6.4282e6        ┆ 682.631           │\n",
       "│ 2024 ┆ Diciembre ┆ Taiwán (Formosa) ┆ Valparaíso           ┆ Cobre    ┆ 1787696.9       ┆ 201.342           │\n",
       "│ 2024 ┆ Diciembre ┆ Taiwán (Formosa) ┆ Valparaíso           ┆ Cobre    ┆ 4.6784e6        ┆ 518.615           │\n",
       "│ 2024 ┆ Diciembre ┆ Taiwán (Formosa) ┆ Valparaíso           ┆ Cobre    ┆ 2.0435e7        ┆ 2231.303          │\n",
       "│ 2024 ┆ Diciembre ┆ Uruguay          ┆ Cristo Redentor (Los ┆ Cobre    ┆ 7800.0          ┆ 0.536             │\n",
       "│      ┆           ┆                  ┆ Libertado…           ┆          ┆                 ┆                   │\n",
       "└──────┴───────────┴──────────────────┴──────────────────────┴──────────┴─────────────────┴───────────────────┘"
      ]
     },
     "execution_count": 19,
     "metadata": {},
     "output_type": "execute_result"
    }
   ],
   "source": [
    "columnas = ['AÑO','MES','PAÍS DESTINO','PUERTO EMBARQUE','PRODUCTO','MONTO FOB (US$)','PESO EN TONELADAS']\n",
    "\n",
    "minerales = ['Plata','Litio','Oro','Cobre']\n",
    "\n",
    "df_minerales = df_mineria.filter(pl.col('PRODUCTO').is_in(minerales)).select(columnas)\n",
    "df_minerales"
   ]
  },
  {
   "cell_type": "markdown",
   "id": "f34cbe31",
   "metadata": {},
   "source": [
    "# Revisar valores nulos "
   ]
  },
  {
   "cell_type": "code",
   "execution_count": 21,
   "id": "b6a5364f",
   "metadata": {},
   "outputs": [
    {
     "data": {
      "text/html": [
       "<div><style>\n",
       ".dataframe > thead > tr,\n",
       ".dataframe > tbody > tr {\n",
       "  text-align: right;\n",
       "  white-space: pre-wrap;\n",
       "}\n",
       "</style>\n",
       "<small>shape: (9, 8)</small><table border=\"1\" class=\"dataframe\"><thead><tr><th>statistic</th><th>AÑO</th><th>MES</th><th>PAÍS DESTINO</th><th>PUERTO EMBARQUE</th><th>PRODUCTO</th><th>MONTO FOB (US$)</th><th>PESO EN TONELADAS</th></tr><tr><td>str</td><td>f64</td><td>str</td><td>str</td><td>str</td><td>str</td><td>f64</td><td>f64</td></tr></thead><tbody><tr><td>&quot;count&quot;</td><td>2391.0</td><td>&quot;2391&quot;</td><td>&quot;2391&quot;</td><td>&quot;2391&quot;</td><td>&quot;2391&quot;</td><td>2391.0</td><td>2391.0</td></tr><tr><td>&quot;null_count&quot;</td><td>0.0</td><td>&quot;0&quot;</td><td>&quot;0&quot;</td><td>&quot;0&quot;</td><td>&quot;0&quot;</td><td>0.0</td><td>0.0</td></tr><tr><td>&quot;mean&quot;</td><td>2024.0</td><td>null</td><td>null</td><td>null</td><td>null</td><td>1.0135e7</td><td>1014.256618</td></tr><tr><td>&quot;std&quot;</td><td>0.0</td><td>null</td><td>null</td><td>null</td><td>null</td><td>2.4039e7</td><td>2598.773079</td></tr><tr><td>&quot;min&quot;</td><td>2024.0</td><td>&quot;Abril&quot;</td><td>&quot;Alemania&quot;</td><td>&quot;Aerop. A. Merino Benítez&quot;</td><td>&quot;Cobre&quot;</td><td>0.25</td><td>0.00011</td></tr><tr><td>&quot;25%&quot;</td><td>2024.0</td><td>null</td><td>null</td><td>null</td><td>null</td><td>232405.0</td><td>22.53</td></tr><tr><td>&quot;50%&quot;</td><td>2024.0</td><td>null</td><td>null</td><td>null</td><td>null</td><td>1.7951e6</td><td>147.73</td></tr><tr><td>&quot;75%&quot;</td><td>2024.0</td><td>null</td><td>null</td><td>null</td><td>null</td><td>9.4597e6</td><td>804.462</td></tr><tr><td>&quot;max&quot;</td><td>2024.0</td><td>&quot;Septiembre&quot;</td><td>&quot;Vietnam&quot;</td><td>&quot;Valparaíso&quot;</td><td>&quot;Plata&quot;</td><td>3.6350e8</td><td>39850.775</td></tr></tbody></table></div>"
      ],
      "text/plain": [
       "shape: (9, 8)\n",
       "┌────────────┬────────┬────────────┬──────────────┬───────────────────┬──────────┬─────────────────┬───────────────────┐\n",
       "│ statistic  ┆ AÑO    ┆ MES        ┆ PAÍS DESTINO ┆ PUERTO EMBARQUE   ┆ PRODUCTO ┆ MONTO FOB (US$) ┆ PESO EN TONELADAS │\n",
       "│ ---        ┆ ---    ┆ ---        ┆ ---          ┆ ---               ┆ ---      ┆ ---             ┆ ---               │\n",
       "│ str        ┆ f64    ┆ str        ┆ str          ┆ str               ┆ str      ┆ f64             ┆ f64               │\n",
       "╞════════════╪════════╪════════════╪══════════════╪═══════════════════╪══════════╪═════════════════╪═══════════════════╡\n",
       "│ count      ┆ 2391.0 ┆ 2391       ┆ 2391         ┆ 2391              ┆ 2391     ┆ 2391.0          ┆ 2391.0            │\n",
       "│ null_count ┆ 0.0    ┆ 0          ┆ 0            ┆ 0                 ┆ 0        ┆ 0.0             ┆ 0.0               │\n",
       "│ mean       ┆ 2024.0 ┆ null       ┆ null         ┆ null              ┆ null     ┆ 1.0135e7        ┆ 1014.256618       │\n",
       "│ std        ┆ 0.0    ┆ null       ┆ null         ┆ null              ┆ null     ┆ 2.4039e7        ┆ 2598.773079       │\n",
       "│ min        ┆ 2024.0 ┆ Abril      ┆ Alemania     ┆ Aerop. A. Merino  ┆ Cobre    ┆ 0.25            ┆ 0.00011           │\n",
       "│            ┆        ┆            ┆              ┆ Benítez           ┆          ┆                 ┆                   │\n",
       "│ 25%        ┆ 2024.0 ┆ null       ┆ null         ┆ null              ┆ null     ┆ 232405.0        ┆ 22.53             │\n",
       "│ 50%        ┆ 2024.0 ┆ null       ┆ null         ┆ null              ┆ null     ┆ 1.7951e6        ┆ 147.73            │\n",
       "│ 75%        ┆ 2024.0 ┆ null       ┆ null         ┆ null              ┆ null     ┆ 9.4597e6        ┆ 804.462           │\n",
       "│ max        ┆ 2024.0 ┆ Septiembre ┆ Vietnam      ┆ Valparaíso        ┆ Plata    ┆ 3.6350e8        ┆ 39850.775         │\n",
       "└────────────┴────────┴────────────┴──────────────┴───────────────────┴──────────┴─────────────────┴───────────────────┘"
      ]
     },
     "execution_count": 21,
     "metadata": {},
     "output_type": "execute_result"
    }
   ],
   "source": [
    "df_minerales.describe()"
   ]
  },
  {
   "cell_type": "code",
   "execution_count": 22,
   "id": "a9fa34d7",
   "metadata": {},
   "outputs": [],
   "source": [
    "df_minerales.write_csv('mineria2024.csv')"
   ]
  }
 ],
 "metadata": {
  "kernelspec": {
   "display_name": "Python 3 (ipykernel)",
   "language": "python",
   "name": "python3"
  },
  "language_info": {
   "codemirror_mode": {
    "name": "ipython",
    "version": 3
   },
   "file_extension": ".py",
   "mimetype": "text/x-python",
   "name": "python",
   "nbconvert_exporter": "python",
   "pygments_lexer": "ipython3",
   "version": "3.11.5"
  }
 },
 "nbformat": 4,
 "nbformat_minor": 5
}
